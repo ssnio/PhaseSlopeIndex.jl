{
 "cells": [
  {
   "cell_type": "markdown",
   "metadata": {},
   "source": [
    "# Phase Slope Index method"
   ]
  },
  {
   "cell_type": "markdown",
   "metadata": {},
   "source": [
    "### Purpose\n",
    "This is a walk-through notebook on *Robustly Estimating the Flow Direction of Information in Complex Physical Systems* paper, by *Guido Nolte, Andreas Ziehe, Vadim V. Nikulin, Alois Schlögl, Nicole Krämer, Tom Brismar, and Klaus-Robert Müller*, implemented in Julia-Language (please see http://doc.ml.tu-berlin.de/causality/ and [Nolte et al. 2008](http://link.aps.org/abstract/PRL/v100/e234101)).\n",
    "\n",
    "### Acknowledgement\n",
    "This work was funded by the German Federal Ministry of Education and Research [(BMBF)](https://www.bmbf.de/) in the project ALICE III under grant ref. 01IS18049B."
   ]
  },
  {
   "cell_type": "markdown",
   "metadata": {},
   "source": [
    "## Setting up Julia Env."
   ]
  },
  {
   "cell_type": "code",
   "execution_count": null,
   "metadata": {},
   "outputs": [],
   "source": [
    "# Add packages\n",
    "# import Pkg\n",
    "# Pkg.add(\"FFTW\")\n",
    "# Pkg.add(\"DSP\")\n",
    "# Pkg.add(\"Plots\")\n",
    "# Pkg.add(\"MAT\")\n",
    "# Pkg.add(\"Einsum\")\n",
    "\n",
    "# imports for PSI\n",
    "using Statistics: mean, std\n",
    "using FFTW: fft\n",
    "using Einsum\n",
    "\n",
    "# imports for notebook\n",
    "using Random: randperm\n",
    "using MAT: matread\n",
    "using Plots: plot, heatmap, cgrad\n",
    "using DSP: blackman\n",
    ";"
   ]
  },
  {
   "cell_type": "markdown",
   "metadata": {},
   "source": [
    "## Data\n",
    "`mixed_data` four channcels, where:\n",
    "- channels 1 and 2 are i.i.d. uniform [0, 1] noise\n",
    "- channel 3 is delayed (by 1 sample) channel 1\n",
    "- channel 4 is delayed (by 16 samples) channel 1 plus i.i.d. uniform [0, 0.2] noise \n"
   ]
  },
  {
   "cell_type": "code",
   "execution_count": null,
   "metadata": {},
   "outputs": [],
   "source": [
    "# data generation\n",
    "n_channels = 4  # number of channels\n",
    "n_samples = 65536  # = 2^16 number of data points measured in each channel\n",
    "fs = 128  # sampling frequency\n",
    "time_array = Array(range(1, step=1/fs, length=n_samples))\n",
    "\n",
    "# mixed data\n",
    "rand_data = randn(Float64, (n_samples+16, 1)) # \n",
    "cause_source = rand_data[16:n_samples+15]  # channel 1\n",
    "random_source = randn(Float64, n_samples)  # channel 2\n",
    "effect_source = rand_data[15:n_samples+14]  #channel 3\n",
    "weak_effect = rand_data[1:n_samples] .- (randn(Float64, (n_samples, 1)) ./ 5)\n",
    "mixed_data = hcat(cause_source, random_source, effect_source, weak_effect)\n",
    "\n",
    "\n",
    "p1 = plot(time_array[1:64], mixed_data[1:64, :],\n",
    "         title = \"Mixed data\",\n",
    "         label = [\"Cause\" \"Random\" \"Effect\" \"noisy Effect\"],\n",
    "         linecolor = [\"red\" \"green\" \"blue\" \"magenta\"])\n",
    "\n",
    "plot(p1, layout=(1, 1), size=(800, 450))\n"
   ]
  },
  {
   "cell_type": "markdown",
   "metadata": {},
   "source": [
    "## PSI"
   ]
  },
  {
   "cell_type": "code",
   "execution_count": null,
   "metadata": {},
   "outputs": [],
   "source": [
    "# include(\"../src/PhaseSlopeIndex.jl\")\n",
    "using PhaseSlopeIndex"
   ]
  },
  {
   "cell_type": "code",
   "execution_count": null,
   "metadata": {},
   "outputs": [],
   "source": [
    "? data2psi"
   ]
  },
  {
   "cell_type": "markdown",
   "metadata": {},
   "source": [
    "# Example 1.\n",
    "PSI is calculated over all frequencies for segmented (`seglen = 100`) but continuous data (single epoch, `nep = 1`) and estimation of error using Bootstrap method for 256 resampling iterations (`nboot=256`). The default window function (Hanning window) is used."
   ]
  },
  {
   "cell_type": "code",
   "execution_count": null,
   "metadata": {},
   "outputs": [],
   "source": [
    "seglen = 100  # segment length\n",
    "nboot = 256  # number of bootstrap iterations\n",
    "method = \"bootstrap\"  # standard error estimation method\n",
    "\n",
    "psi, psi_se = data2psi(mixed_data, seglen, nboot=nboot, method=method)\n",
    "\n",
    "p1 = heatmap(psi, ticks=false, yflip = true,\n",
    "             yticks=([1, 2, 3, 4], [\"Ch1\", \"Ch2\", \"Ch3\", \"Ch4\"]),\n",
    "             xticks=([1, 2, 3, 4], [\"Ch1\", \"Ch2\", \"Ch3\", \"Ch4\"]),\n",
    "             color=cgrad(:bwr), title=\"Phase Slope Index\")\n",
    "\n",
    "p2 = heatmap(psi_se, ticks=false, yflip = true,\n",
    "             yticks=([1, 2, 3, 4], [\"Ch1\", \"Ch2\", \"Ch3\", \"Ch4\"]),\n",
    "             xticks=([1, 2, 3, 4], [\"Ch1\", \"Ch2\", \"Ch3\", \"Ch4\"]),\n",
    "             color=cgrad(:grays, rev = true), title=\"PSI standard error\")\n",
    "\n",
    "plot(p1, p2, layout=(1, 2), size=(720, 300))"
   ]
  },
  {
   "cell_type": "markdown",
   "metadata": {},
   "source": [
    "# Example 2.\n",
    "PSI is calculated over 3 frequency bands, for partitioned data to segments (`seglen = 100`) and epochs (`eplen = 200`), estimation of error using Jackknife method (default). The window function is set to blackman (imported from DSP.jl). The plots are for only one of the frequency ranges.\n",
    "\n",
    "We normalize the PSI by dividing it by estimated standard error."
   ]
  },
  {
   "cell_type": "code",
   "execution_count": null,
   "metadata": {},
   "outputs": [],
   "source": [
    "seglen = 100  # segment length\n",
    "eplen = 200  # epoch length\n",
    "method = \"jackknife\"  # standard error estimation method\n",
    "\n",
    "# three frequency bands\n",
    "freqlist = [[5:1:10;] [6:1:11;] [7:1:12;]]\n",
    "\n",
    "segave = true  # average across CS segments\n",
    "subave = true  # subtract average across CS segments\n",
    "detrend = true  # performes a 0th-order detrend across raw segments\n",
    "window = blackman  # blackman window function\n",
    "\n",
    "psi, psi_se = data2psi(mixed_data, seglen, subave=subave, segave=segave, detrend=detrend,\n",
    "                             freqlist=freqlist, eplen=eplen, method=method, window=blackman)\n",
    "\n",
    "psi_normed = psi ./ (psi_se .+ eps())\n",
    "\n",
    "p1 = heatmap(psi[:, :, 1], ticks=false, yflip = true,\n",
    "             yticks=([1, 2, 3, 4], [\"Ch1\", \"Ch2\", \"Ch3\", \"Ch4\"]),\n",
    "             xticks=([1, 2, 3, 4], [\"Ch1\", \"Ch2\", \"Ch3\", \"Ch4\"]),\n",
    "             color=cgrad(:bwr), title=\"Phase Slope Index\")\n",
    "\n",
    "p2 = heatmap(psi_se[:, :, 1], ticks=false, yflip = true,\n",
    "             yticks=([1, 2, 3, 4], [\"Ch1\", \"Ch2\", \"Ch3\", \"Ch4\"]),\n",
    "             xticks=([1, 2, 3, 4], [\"Ch1\", \"Ch2\", \"Ch3\", \"Ch4\"]),\n",
    "             color=cgrad(:grays, rev = true), title=\"PSI standard error\")\n",
    "\n",
    "p3 = heatmap(psi_normed[:, :, 1], ticks=false, yflip = true,\n",
    "             yticks=([1, 2, 3, 4], [\"Ch1\", \"Ch2\", \"Ch3\", \"Ch4\"]),\n",
    "             xticks=([1, 2, 3, 4], [\"Ch1\", \"Ch2\", \"Ch3\", \"Ch4\"]),\n",
    "             color=cgrad(:bwr), title=\"Normalized PSI\")\n",
    "\n",
    "plot(p1, p2, p3, layout=(1, 3), size=(1110, 270))"
   ]
  }
 ],
 "metadata": {
  "kernelspec": {
   "display_name": "Julia 1.5.3",
   "language": "julia",
   "name": "julia-1.5"
  },
  "language_info": {
   "file_extension": ".jl",
   "mimetype": "application/julia",
   "name": "julia",
   "version": "1.5.3"
  }
 },
 "nbformat": 4,
 "nbformat_minor": 4
}
